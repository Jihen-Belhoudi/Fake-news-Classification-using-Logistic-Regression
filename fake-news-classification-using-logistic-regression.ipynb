{
 "cells": [
  {
   "cell_type": "code",
   "execution_count": 1,
   "id": "d872e52d",
   "metadata": {
    "_cell_guid": "b1076dfc-b9ad-4769-8c92-a6c4dae69d19",
    "_uuid": "8f2839f25d086af736a60e9eeb907d3b93b6e0e5",
    "execution": {
     "iopub.execute_input": "2021-11-02T13:31:37.047143Z",
     "iopub.status.busy": "2021-11-02T13:31:37.045873Z",
     "iopub.status.idle": "2021-11-02T13:31:37.065550Z",
     "shell.execute_reply": "2021-11-02T13:31:37.066134Z",
     "shell.execute_reply.started": "2021-11-01T21:29:10.070962Z"
    },
    "papermill": {
     "duration": 0.056975,
     "end_time": "2021-11-02T13:31:37.066549",
     "exception": false,
     "start_time": "2021-11-02T13:31:37.009574",
     "status": "completed"
    },
    "tags": []
   },
   "outputs": [
    {
     "name": "stdout",
     "output_type": "stream",
     "text": [
      "/kaggle/input/fake-news/submit.csv\n",
      "/kaggle/input/fake-news/train.csv\n",
      "/kaggle/input/fake-news/test.csv\n"
     ]
    }
   ],
   "source": [
    "# This Python 3 environment comes with many helpful analytics libraries installed\n",
    "# It is defined by the kaggle/python Docker image: https://github.com/kaggle/docker-python\n",
    "# For example, here's several helpful packages to load\n",
    "\n",
    "import numpy as np # linear algebra\n",
    "import pandas as pd # data processing, CSV file I/O (e.g. pd.read_csv)\n",
    "\n",
    "# Input data files are available in the read-only \"../input/\" directory\n",
    "# For example, running this (by clicking run or pressing Shift+Enter) will list all files under the input directory\n",
    "\n",
    "import os\n",
    "for dirname, _, filenames in os.walk('/kaggle/input'):\n",
    "    for filename in filenames:\n",
    "        print(os.path.join(dirname, filename))\n",
    "\n",
    "# You can write up to 20GB to the current directory (/kaggle/working/) that gets preserved as output when you create a version using \"Save & Run All\" \n",
    "# You can also write temporary files to /kaggle/temp/, but they won't be saved outside of the current session"
   ]
  },
  {
   "cell_type": "markdown",
   "id": "ffbfc78d",
   "metadata": {
    "papermill": {
     "duration": 0.031056,
     "end_time": "2021-11-02T13:31:37.129114",
     "exception": false,
     "start_time": "2021-11-02T13:31:37.098058",
     "status": "completed"
    },
    "tags": []
   },
   "source": [
    "***Fake news generally defined as misleading news often constructed with an aim to create a sense of belief and to mislead people to\n",
    "believe a particular incident. Fake news gets its massive wings through social involvement. We aim to design a system which would probably\n",
    "use concepts like Natural Language Processing (NLP), Data Mining and Machine Learning and prediction classifiers like Logistic regression classifier which will predict the truthfulness or fakeness of news.***"
   ]
  },
  {
   "cell_type": "markdown",
   "id": "4f89e14c",
   "metadata": {
    "papermill": {
     "duration": 0.030123,
     "end_time": "2021-11-02T13:31:37.189739",
     "exception": false,
     "start_time": "2021-11-02T13:31:37.159616",
     "status": "completed"
    },
    "tags": []
   },
   "source": [
    "****Importing All Necessary API****"
   ]
  },
  {
   "cell_type": "code",
   "execution_count": 2,
   "id": "65e784ae",
   "metadata": {
    "execution": {
     "iopub.execute_input": "2021-11-02T13:31:37.254735Z",
     "iopub.status.busy": "2021-11-02T13:31:37.253992Z",
     "iopub.status.idle": "2021-11-02T13:31:39.050316Z",
     "shell.execute_reply": "2021-11-02T13:31:39.051013Z",
     "shell.execute_reply.started": "2021-11-01T21:29:10.102987Z"
    },
    "papermill": {
     "duration": 1.831162,
     "end_time": "2021-11-02T13:31:39.051258",
     "exception": false,
     "start_time": "2021-11-02T13:31:37.220096",
     "status": "completed"
    },
    "tags": []
   },
   "outputs": [],
   "source": [
    "import numpy as np\n",
    "import pandas as pd\n",
    "import re\n",
    "from nltk.corpus import stopwords\n",
    "from nltk.stem.porter import PorterStemmer\n",
    "from sklearn.feature_extraction.text import TfidfVectorizer\n",
    "from sklearn.model_selection import train_test_split\n",
    "from sklearn.linear_model import LogisticRegression\n",
    "from sklearn.metrics import accuracy_score"
   ]
  },
  {
   "cell_type": "code",
   "execution_count": 3,
   "id": "f47c57d9",
   "metadata": {
    "execution": {
     "iopub.execute_input": "2021-11-02T13:31:39.129261Z",
     "iopub.status.busy": "2021-11-02T13:31:39.128536Z",
     "iopub.status.idle": "2021-11-02T13:31:39.373775Z",
     "shell.execute_reply": "2021-11-02T13:31:39.374325Z",
     "shell.execute_reply.started": "2021-11-01T21:29:11.617182Z"
    },
    "papermill": {
     "duration": 0.291688,
     "end_time": "2021-11-02T13:31:39.374545",
     "exception": false,
     "start_time": "2021-11-02T13:31:39.082857",
     "status": "completed"
    },
    "tags": []
   },
   "outputs": [
    {
     "name": "stdout",
     "output_type": "stream",
     "text": [
      "[nltk_data] Downloading package stopwords to /usr/share/nltk_data...\n",
      "[nltk_data]   Unzipping corpora/stopwords.zip.\n"
     ]
    },
    {
     "data": {
      "text/plain": [
       "True"
      ]
     },
     "execution_count": 3,
     "metadata": {},
     "output_type": "execute_result"
    }
   ],
   "source": [
    "import nltk\n",
    "nltk.download('stopwords')"
   ]
  },
  {
   "cell_type": "markdown",
   "id": "c6c8e772",
   "metadata": {
    "papermill": {
     "duration": 0.030569,
     "end_time": "2021-11-02T13:31:39.435707",
     "exception": false,
     "start_time": "2021-11-02T13:31:39.405138",
     "status": "completed"
    },
    "tags": []
   },
   "source": [
    "\n",
    "***Gathering Data***"
   ]
  },
  {
   "cell_type": "code",
   "execution_count": 4,
   "id": "16c232b8",
   "metadata": {
    "execution": {
     "iopub.execute_input": "2021-11-02T13:31:39.503218Z",
     "iopub.status.busy": "2021-11-02T13:31:39.502422Z",
     "iopub.status.idle": "2021-11-02T13:31:42.625415Z",
     "shell.execute_reply": "2021-11-02T13:31:42.624705Z",
     "shell.execute_reply.started": "2021-11-01T21:29:11.918483Z"
    },
    "papermill": {
     "duration": 3.159097,
     "end_time": "2021-11-02T13:31:42.625591",
     "exception": false,
     "start_time": "2021-11-02T13:31:39.466494",
     "status": "completed"
    },
    "tags": []
   },
   "outputs": [
    {
     "data": {
      "text/plain": [
       "(20800, 5)"
      ]
     },
     "execution_count": 4,
     "metadata": {},
     "output_type": "execute_result"
    }
   ],
   "source": [
    "# loading the dataset to a pandas DataFrame\n",
    "dataset = pd.read_csv('/kaggle/input/fake-news/train.csv')\n",
    "dataset.shape"
   ]
  },
  {
   "cell_type": "code",
   "execution_count": 5,
   "id": "950de189",
   "metadata": {
    "execution": {
     "iopub.execute_input": "2021-11-02T13:31:42.697563Z",
     "iopub.status.busy": "2021-11-02T13:31:42.696839Z",
     "iopub.status.idle": "2021-11-02T13:31:42.712003Z",
     "shell.execute_reply": "2021-11-02T13:31:42.711236Z",
     "shell.execute_reply.started": "2021-11-01T21:29:14.628258Z"
    },
    "papermill": {
     "duration": 0.055207,
     "end_time": "2021-11-02T13:31:42.712158",
     "exception": false,
     "start_time": "2021-11-02T13:31:42.656951",
     "status": "completed"
    },
    "tags": []
   },
   "outputs": [
    {
     "data": {
      "text/html": [
       "<div>\n",
       "<style scoped>\n",
       "    .dataframe tbody tr th:only-of-type {\n",
       "        vertical-align: middle;\n",
       "    }\n",
       "\n",
       "    .dataframe tbody tr th {\n",
       "        vertical-align: top;\n",
       "    }\n",
       "\n",
       "    .dataframe thead th {\n",
       "        text-align: right;\n",
       "    }\n",
       "</style>\n",
       "<table border=\"1\" class=\"dataframe\">\n",
       "  <thead>\n",
       "    <tr style=\"text-align: right;\">\n",
       "      <th></th>\n",
       "      <th>id</th>\n",
       "      <th>title</th>\n",
       "      <th>author</th>\n",
       "      <th>text</th>\n",
       "      <th>label</th>\n",
       "    </tr>\n",
       "  </thead>\n",
       "  <tbody>\n",
       "    <tr>\n",
       "      <th>0</th>\n",
       "      <td>0</td>\n",
       "      <td>House Dem Aide: We Didn’t Even See Comey’s Let...</td>\n",
       "      <td>Darrell Lucus</td>\n",
       "      <td>House Dem Aide: We Didn’t Even See Comey’s Let...</td>\n",
       "      <td>1</td>\n",
       "    </tr>\n",
       "    <tr>\n",
       "      <th>1</th>\n",
       "      <td>1</td>\n",
       "      <td>FLYNN: Hillary Clinton, Big Woman on Campus - ...</td>\n",
       "      <td>Daniel J. Flynn</td>\n",
       "      <td>Ever get the feeling your life circles the rou...</td>\n",
       "      <td>0</td>\n",
       "    </tr>\n",
       "    <tr>\n",
       "      <th>2</th>\n",
       "      <td>2</td>\n",
       "      <td>Why the Truth Might Get You Fired</td>\n",
       "      <td>Consortiumnews.com</td>\n",
       "      <td>Why the Truth Might Get You Fired October 29, ...</td>\n",
       "      <td>1</td>\n",
       "    </tr>\n",
       "    <tr>\n",
       "      <th>3</th>\n",
       "      <td>3</td>\n",
       "      <td>15 Civilians Killed In Single US Airstrike Hav...</td>\n",
       "      <td>Jessica Purkiss</td>\n",
       "      <td>Videos 15 Civilians Killed In Single US Airstr...</td>\n",
       "      <td>1</td>\n",
       "    </tr>\n",
       "    <tr>\n",
       "      <th>4</th>\n",
       "      <td>4</td>\n",
       "      <td>Iranian woman jailed for fictional unpublished...</td>\n",
       "      <td>Howard Portnoy</td>\n",
       "      <td>Print \\nAn Iranian woman has been sentenced to...</td>\n",
       "      <td>1</td>\n",
       "    </tr>\n",
       "  </tbody>\n",
       "</table>\n",
       "</div>"
      ],
      "text/plain": [
       "   id                                              title              author  \\\n",
       "0   0  House Dem Aide: We Didn’t Even See Comey’s Let...       Darrell Lucus   \n",
       "1   1  FLYNN: Hillary Clinton, Big Woman on Campus - ...     Daniel J. Flynn   \n",
       "2   2                  Why the Truth Might Get You Fired  Consortiumnews.com   \n",
       "3   3  15 Civilians Killed In Single US Airstrike Hav...     Jessica Purkiss   \n",
       "4   4  Iranian woman jailed for fictional unpublished...      Howard Portnoy   \n",
       "\n",
       "                                                text  label  \n",
       "0  House Dem Aide: We Didn’t Even See Comey’s Let...      1  \n",
       "1  Ever get the feeling your life circles the rou...      0  \n",
       "2  Why the Truth Might Get You Fired October 29, ...      1  \n",
       "3  Videos 15 Civilians Killed In Single US Airstr...      1  \n",
       "4  Print \\nAn Iranian woman has been sentenced to...      1  "
      ]
     },
     "execution_count": 5,
     "metadata": {},
     "output_type": "execute_result"
    }
   ],
   "source": [
    "dataset.head()"
   ]
  },
  {
   "cell_type": "markdown",
   "id": "426adc20",
   "metadata": {
    "papermill": {
     "duration": 0.031214,
     "end_time": "2021-11-02T13:31:42.775908",
     "exception": false,
     "start_time": "2021-11-02T13:31:42.744694",
     "status": "completed"
    },
    "tags": []
   },
   "source": [
    "***Data Cleaning : Removing Stop Words, Unnecessary Characters and Stemming***"
   ]
  },
  {
   "cell_type": "code",
   "execution_count": 6,
   "id": "6f1b9205",
   "metadata": {
    "execution": {
     "iopub.execute_input": "2021-11-02T13:31:42.856645Z",
     "iopub.status.busy": "2021-11-02T13:31:42.855810Z",
     "iopub.status.idle": "2021-11-02T13:31:42.865141Z",
     "shell.execute_reply": "2021-11-02T13:31:42.865845Z",
     "shell.execute_reply.started": "2021-11-01T21:29:14.648644Z"
    },
    "papermill": {
     "duration": 0.058411,
     "end_time": "2021-11-02T13:31:42.866059",
     "exception": false,
     "start_time": "2021-11-02T13:31:42.807648",
     "status": "completed"
    },
    "tags": []
   },
   "outputs": [
    {
     "data": {
      "text/plain": [
       "id           0\n",
       "title      558\n",
       "author    1957\n",
       "text        39\n",
       "label        0\n",
       "dtype: int64"
      ]
     },
     "execution_count": 6,
     "metadata": {},
     "output_type": "execute_result"
    }
   ],
   "source": [
    "#missing values in the dataset\n",
    "dataset.isnull().sum()"
   ]
  },
  {
   "cell_type": "code",
   "execution_count": 7,
   "id": "25a35c52",
   "metadata": {
    "execution": {
     "iopub.execute_input": "2021-11-02T13:31:42.934405Z",
     "iopub.status.busy": "2021-11-02T13:31:42.933397Z",
     "iopub.status.idle": "2021-11-02T13:31:42.948745Z",
     "shell.execute_reply": "2021-11-02T13:31:42.949231Z",
     "shell.execute_reply.started": "2021-11-01T21:29:14.66892Z"
    },
    "papermill": {
     "duration": 0.051403,
     "end_time": "2021-11-02T13:31:42.949421",
     "exception": false,
     "start_time": "2021-11-02T13:31:42.898018",
     "status": "completed"
    },
    "tags": []
   },
   "outputs": [],
   "source": [
    "# replacing the null values with empty string\n",
    "dataset = dataset.fillna('')"
   ]
  },
  {
   "cell_type": "code",
   "execution_count": 8,
   "id": "f1a93f88",
   "metadata": {
    "execution": {
     "iopub.execute_input": "2021-11-02T13:31:43.018706Z",
     "iopub.status.busy": "2021-11-02T13:31:43.017676Z",
     "iopub.status.idle": "2021-11-02T13:31:43.038147Z",
     "shell.execute_reply": "2021-11-02T13:31:43.038820Z",
     "shell.execute_reply.started": "2021-11-01T21:29:14.687398Z"
    },
    "papermill": {
     "duration": 0.057923,
     "end_time": "2021-11-02T13:31:43.039023",
     "exception": false,
     "start_time": "2021-11-02T13:31:42.981100",
     "status": "completed"
    },
    "tags": []
   },
   "outputs": [],
   "source": [
    "# merging the author name and news title\n",
    "dataset['content'] = dataset['author']+' '+ dataset['title']"
   ]
  },
  {
   "cell_type": "code",
   "execution_count": 9,
   "id": "d4368059",
   "metadata": {
    "execution": {
     "iopub.execute_input": "2021-11-02T13:31:43.107790Z",
     "iopub.status.busy": "2021-11-02T13:31:43.107150Z",
     "iopub.status.idle": "2021-11-02T13:31:43.114714Z",
     "shell.execute_reply": "2021-11-02T13:31:43.115344Z",
     "shell.execute_reply.started": "2021-11-01T21:29:14.709719Z"
    },
    "papermill": {
     "duration": 0.043939,
     "end_time": "2021-11-02T13:31:43.115540",
     "exception": false,
     "start_time": "2021-11-02T13:31:43.071601",
     "status": "completed"
    },
    "tags": []
   },
   "outputs": [
    {
     "name": "stdout",
     "output_type": "stream",
     "text": [
      "0        Darrell Lucus House Dem Aide: We Didn’t Even S...\n",
      "1        Daniel J. Flynn FLYNN: Hillary Clinton, Big Wo...\n",
      "2        Consortiumnews.com Why the Truth Might Get You...\n",
      "3        Jessica Purkiss 15 Civilians Killed In Single ...\n",
      "4        Howard Portnoy Iranian woman jailed for fictio...\n",
      "                               ...                        \n",
      "20795    Jerome Hudson Rapper T.I.: Trump a ’Poster Chi...\n",
      "20796    Benjamin Hoffman N.F.L. Playoffs: Schedule, Ma...\n",
      "20797    Michael J. de la Merced and Rachel Abrams Macy...\n",
      "20798    Alex Ansary NATO, Russia To Hold Parallel Exer...\n",
      "20799              David Swanson What Keeps the F-35 Alive\n",
      "Name: content, Length: 20800, dtype: object\n"
     ]
    }
   ],
   "source": [
    "print(dataset['content'])"
   ]
  },
  {
   "cell_type": "code",
   "execution_count": 10,
   "id": "f52ca503",
   "metadata": {
    "execution": {
     "iopub.execute_input": "2021-11-02T13:31:43.187706Z",
     "iopub.status.busy": "2021-11-02T13:31:43.183241Z",
     "iopub.status.idle": "2021-11-02T13:31:43.204328Z",
     "shell.execute_reply": "2021-11-02T13:31:43.204910Z",
     "shell.execute_reply.started": "2021-11-01T21:29:14.718184Z"
    },
    "papermill": {
     "duration": 0.057193,
     "end_time": "2021-11-02T13:31:43.205098",
     "exception": false,
     "start_time": "2021-11-02T13:31:43.147905",
     "status": "completed"
    },
    "tags": []
   },
   "outputs": [],
   "source": [
    "# separating the data & label\n",
    "X = dataset.drop(columns='label', axis=1)\n",
    "Y = dataset['label']"
   ]
  },
  {
   "cell_type": "code",
   "execution_count": 11,
   "id": "20a67f1f",
   "metadata": {
    "execution": {
     "iopub.execute_input": "2021-11-02T13:31:43.273637Z",
     "iopub.status.busy": "2021-11-02T13:31:43.272949Z",
     "iopub.status.idle": "2021-11-02T13:31:43.283655Z",
     "shell.execute_reply": "2021-11-02T13:31:43.284176Z",
     "shell.execute_reply.started": "2021-11-01T21:29:14.747233Z"
    },
    "papermill": {
     "duration": 0.046992,
     "end_time": "2021-11-02T13:31:43.284351",
     "exception": false,
     "start_time": "2021-11-02T13:31:43.237359",
     "status": "completed"
    },
    "tags": []
   },
   "outputs": [
    {
     "name": "stdout",
     "output_type": "stream",
     "text": [
      "          id                                              title  \\\n",
      "0          0  House Dem Aide: We Didn’t Even See Comey’s Let...   \n",
      "1          1  FLYNN: Hillary Clinton, Big Woman on Campus - ...   \n",
      "2          2                  Why the Truth Might Get You Fired   \n",
      "3          3  15 Civilians Killed In Single US Airstrike Hav...   \n",
      "4          4  Iranian woman jailed for fictional unpublished...   \n",
      "...      ...                                                ...   \n",
      "20795  20795  Rapper T.I.: Trump a ’Poster Child For White S...   \n",
      "20796  20796  N.F.L. Playoffs: Schedule, Matchups and Odds -...   \n",
      "20797  20797  Macy’s Is Said to Receive Takeover Approach by...   \n",
      "20798  20798  NATO, Russia To Hold Parallel Exercises In Bal...   \n",
      "20799  20799                          What Keeps the F-35 Alive   \n",
      "\n",
      "                                          author  \\\n",
      "0                                  Darrell Lucus   \n",
      "1                                Daniel J. Flynn   \n",
      "2                             Consortiumnews.com   \n",
      "3                                Jessica Purkiss   \n",
      "4                                 Howard Portnoy   \n",
      "...                                          ...   \n",
      "20795                              Jerome Hudson   \n",
      "20796                           Benjamin Hoffman   \n",
      "20797  Michael J. de la Merced and Rachel Abrams   \n",
      "20798                                Alex Ansary   \n",
      "20799                              David Swanson   \n",
      "\n",
      "                                                    text  \\\n",
      "0      House Dem Aide: We Didn’t Even See Comey’s Let...   \n",
      "1      Ever get the feeling your life circles the rou...   \n",
      "2      Why the Truth Might Get You Fired October 29, ...   \n",
      "3      Videos 15 Civilians Killed In Single US Airstr...   \n",
      "4      Print \\nAn Iranian woman has been sentenced to...   \n",
      "...                                                  ...   \n",
      "20795  Rapper T. I. unloaded on black celebrities who...   \n",
      "20796  When the Green Bay Packers lost to the Washing...   \n",
      "20797  The Macy’s of today grew from the union of sev...   \n",
      "20798  NATO, Russia To Hold Parallel Exercises In Bal...   \n",
      "20799    David Swanson is an author, activist, journa...   \n",
      "\n",
      "                                                 content  \n",
      "0      Darrell Lucus House Dem Aide: We Didn’t Even S...  \n",
      "1      Daniel J. Flynn FLYNN: Hillary Clinton, Big Wo...  \n",
      "2      Consortiumnews.com Why the Truth Might Get You...  \n",
      "3      Jessica Purkiss 15 Civilians Killed In Single ...  \n",
      "4      Howard Portnoy Iranian woman jailed for fictio...  \n",
      "...                                                  ...  \n",
      "20795  Jerome Hudson Rapper T.I.: Trump a ’Poster Chi...  \n",
      "20796  Benjamin Hoffman N.F.L. Playoffs: Schedule, Ma...  \n",
      "20797  Michael J. de la Merced and Rachel Abrams Macy...  \n",
      "20798  Alex Ansary NATO, Russia To Hold Parallel Exer...  \n",
      "20799            David Swanson What Keeps the F-35 Alive  \n",
      "\n",
      "[20800 rows x 5 columns]\n"
     ]
    }
   ],
   "source": [
    "print(X)\n"
   ]
  },
  {
   "cell_type": "code",
   "execution_count": 12,
   "id": "a73deda8",
   "metadata": {
    "execution": {
     "iopub.execute_input": "2021-11-02T13:31:43.357732Z",
     "iopub.status.busy": "2021-11-02T13:31:43.356981Z",
     "iopub.status.idle": "2021-11-02T13:31:43.360589Z",
     "shell.execute_reply": "2021-11-02T13:31:43.359899Z",
     "shell.execute_reply.started": "2021-11-01T21:29:14.760947Z"
    },
    "papermill": {
     "duration": 0.043415,
     "end_time": "2021-11-02T13:31:43.360743",
     "exception": false,
     "start_time": "2021-11-02T13:31:43.317328",
     "status": "completed"
    },
    "tags": []
   },
   "outputs": [
    {
     "name": "stdout",
     "output_type": "stream",
     "text": [
      "0        1\n",
      "1        0\n",
      "2        1\n",
      "3        1\n",
      "4        1\n",
      "        ..\n",
      "20795    0\n",
      "20796    0\n",
      "20797    0\n",
      "20798    1\n",
      "20799    1\n",
      "Name: label, Length: 20800, dtype: int64\n"
     ]
    }
   ],
   "source": [
    "print(Y)"
   ]
  },
  {
   "cell_type": "markdown",
   "id": "897457dd",
   "metadata": {
    "papermill": {
     "duration": 0.032966,
     "end_time": "2021-11-02T13:31:43.427054",
     "exception": false,
     "start_time": "2021-11-02T13:31:43.394088",
     "status": "completed"
    },
    "tags": []
   },
   "source": [
    "Stemming******"
   ]
  },
  {
   "cell_type": "code",
   "execution_count": 13,
   "id": "88e8e103",
   "metadata": {
    "execution": {
     "iopub.execute_input": "2021-11-02T13:31:43.497535Z",
     "iopub.status.busy": "2021-11-02T13:31:43.496820Z",
     "iopub.status.idle": "2021-11-02T13:31:43.500677Z",
     "shell.execute_reply": "2021-11-02T13:31:43.501136Z",
     "shell.execute_reply.started": "2021-11-01T21:29:14.768557Z"
    },
    "papermill": {
     "duration": 0.041224,
     "end_time": "2021-11-02T13:31:43.501319",
     "exception": false,
     "start_time": "2021-11-02T13:31:43.460095",
     "status": "completed"
    },
    "tags": []
   },
   "outputs": [],
   "source": [
    "port_stem = PorterStemmer()"
   ]
  },
  {
   "cell_type": "code",
   "execution_count": 14,
   "id": "b6b23228",
   "metadata": {
    "execution": {
     "iopub.execute_input": "2021-11-02T13:31:43.574725Z",
     "iopub.status.busy": "2021-11-02T13:31:43.573963Z",
     "iopub.status.idle": "2021-11-02T13:31:43.579413Z",
     "shell.execute_reply": "2021-11-02T13:31:43.579909Z",
     "shell.execute_reply.started": "2021-11-01T21:29:14.777895Z"
    },
    "papermill": {
     "duration": 0.043491,
     "end_time": "2021-11-02T13:31:43.580094",
     "exception": false,
     "start_time": "2021-11-02T13:31:43.536603",
     "status": "completed"
    },
    "tags": []
   },
   "outputs": [],
   "source": [
    "def stemming(content):\n",
    "    stemmed_content = re.sub('[^a-zA-Z]',' ',content)\n",
    "    stemmed_content = stemmed_content.lower()\n",
    "    stemmed_content = stemmed_content.split()\n",
    "    stemmed_content = [port_stem.stem(word) for word in stemmed_content if not word in stopwords.words('english')]\n",
    "    stemmed_content = ' '.join(stemmed_content)\n",
    "    return stemmed_content"
   ]
  },
  {
   "cell_type": "code",
   "execution_count": 15,
   "id": "0a754a07",
   "metadata": {
    "execution": {
     "iopub.execute_input": "2021-11-02T13:31:43.649831Z",
     "iopub.status.busy": "2021-11-02T13:31:43.649160Z",
     "iopub.status.idle": "2021-11-02T13:32:30.340014Z",
     "shell.execute_reply": "2021-11-02T13:32:30.339257Z",
     "shell.execute_reply.started": "2021-11-01T21:29:14.788879Z"
    },
    "papermill": {
     "duration": 46.727187,
     "end_time": "2021-11-02T13:32:30.340225",
     "exception": false,
     "start_time": "2021-11-02T13:31:43.613038",
     "status": "completed"
    },
    "tags": []
   },
   "outputs": [],
   "source": [
    "dataset['content'] = dataset['content'].apply(stemming)"
   ]
  },
  {
   "cell_type": "code",
   "execution_count": 16,
   "id": "b8c7547e",
   "metadata": {
    "execution": {
     "iopub.execute_input": "2021-11-02T13:32:30.415422Z",
     "iopub.status.busy": "2021-11-02T13:32:30.414659Z",
     "iopub.status.idle": "2021-11-02T13:32:30.418926Z",
     "shell.execute_reply": "2021-11-02T13:32:30.417988Z",
     "shell.execute_reply.started": "2021-11-01T21:30:00.999533Z"
    },
    "papermill": {
     "duration": 0.045083,
     "end_time": "2021-11-02T13:32:30.419154",
     "exception": false,
     "start_time": "2021-11-02T13:32:30.374071",
     "status": "completed"
    },
    "tags": []
   },
   "outputs": [
    {
     "name": "stdout",
     "output_type": "stream",
     "text": [
      "0        darrel lucu hous dem aid even see comey letter...\n",
      "1        daniel j flynn flynn hillari clinton big woman...\n",
      "2                   consortiumnew com truth might get fire\n",
      "3        jessica purkiss civilian kill singl us airstri...\n",
      "4        howard portnoy iranian woman jail fiction unpu...\n",
      "                               ...                        \n",
      "20795    jerom hudson rapper trump poster child white s...\n",
      "20796    benjamin hoffman n f l playoff schedul matchup...\n",
      "20797    michael j de la merc rachel abram maci said re...\n",
      "20798    alex ansari nato russia hold parallel exercis ...\n",
      "20799                            david swanson keep f aliv\n",
      "Name: content, Length: 20800, dtype: object\n"
     ]
    }
   ],
   "source": [
    "print(dataset['content'])"
   ]
  },
  {
   "cell_type": "code",
   "execution_count": 17,
   "id": "29cb387e",
   "metadata": {
    "execution": {
     "iopub.execute_input": "2021-11-02T13:32:30.499381Z",
     "iopub.status.busy": "2021-11-02T13:32:30.498414Z",
     "iopub.status.idle": "2021-11-02T13:32:30.502126Z",
     "shell.execute_reply": "2021-11-02T13:32:30.502659Z",
     "shell.execute_reply.started": "2021-11-01T21:30:01.007363Z"
    },
    "papermill": {
     "duration": 0.047993,
     "end_time": "2021-11-02T13:32:30.502911",
     "exception": false,
     "start_time": "2021-11-02T13:32:30.454918",
     "status": "completed"
    },
    "tags": []
   },
   "outputs": [],
   "source": [
    "#separating the data and label\n",
    "X = dataset['content'].values\n",
    "Y = dataset['label'].values"
   ]
  },
  {
   "cell_type": "code",
   "execution_count": 18,
   "id": "93e6ab9e",
   "metadata": {
    "execution": {
     "iopub.execute_input": "2021-11-02T13:32:30.578641Z",
     "iopub.status.busy": "2021-11-02T13:32:30.577801Z",
     "iopub.status.idle": "2021-11-02T13:32:30.580891Z",
     "shell.execute_reply": "2021-11-02T13:32:30.581399Z",
     "shell.execute_reply.started": "2021-11-01T21:30:01.026581Z"
    },
    "papermill": {
     "duration": 0.044241,
     "end_time": "2021-11-02T13:32:30.581636",
     "exception": false,
     "start_time": "2021-11-02T13:32:30.537395",
     "status": "completed"
    },
    "tags": []
   },
   "outputs": [
    {
     "name": "stdout",
     "output_type": "stream",
     "text": [
      "['darrel lucu hous dem aid even see comey letter jason chaffetz tweet'\n",
      " 'daniel j flynn flynn hillari clinton big woman campu breitbart'\n",
      " 'consortiumnew com truth might get fire' ...\n",
      " 'michael j de la merc rachel abram maci said receiv takeov approach hudson bay new york time'\n",
      " 'alex ansari nato russia hold parallel exercis balkan'\n",
      " 'david swanson keep f aliv']\n"
     ]
    }
   ],
   "source": [
    "print(X)"
   ]
  },
  {
   "cell_type": "code",
   "execution_count": 19,
   "id": "7853fff1",
   "metadata": {
    "execution": {
     "iopub.execute_input": "2021-11-02T13:32:30.656335Z",
     "iopub.status.busy": "2021-11-02T13:32:30.655520Z",
     "iopub.status.idle": "2021-11-02T13:32:30.658666Z",
     "shell.execute_reply": "2021-11-02T13:32:30.659192Z",
     "shell.execute_reply.started": "2021-11-01T21:30:01.036528Z"
    },
    "papermill": {
     "duration": 0.043238,
     "end_time": "2021-11-02T13:32:30.659410",
     "exception": false,
     "start_time": "2021-11-02T13:32:30.616172",
     "status": "completed"
    },
    "tags": []
   },
   "outputs": [
    {
     "name": "stdout",
     "output_type": "stream",
     "text": [
      "[1 0 1 ... 0 1 1]\n"
     ]
    }
   ],
   "source": [
    "print(Y)"
   ]
  },
  {
   "cell_type": "code",
   "execution_count": 20,
   "id": "315843f0",
   "metadata": {
    "execution": {
     "iopub.execute_input": "2021-11-02T13:32:30.734017Z",
     "iopub.status.busy": "2021-11-02T13:32:30.733199Z",
     "iopub.status.idle": "2021-11-02T13:32:30.738164Z",
     "shell.execute_reply": "2021-11-02T13:32:30.738874Z",
     "shell.execute_reply.started": "2021-11-01T21:30:01.048323Z"
    },
    "papermill": {
     "duration": 0.044272,
     "end_time": "2021-11-02T13:32:30.739109",
     "exception": false,
     "start_time": "2021-11-02T13:32:30.694837",
     "status": "completed"
    },
    "tags": []
   },
   "outputs": [
    {
     "data": {
      "text/plain": [
       "(20800,)"
      ]
     },
     "execution_count": 20,
     "metadata": {},
     "output_type": "execute_result"
    }
   ],
   "source": [
    "Y.shape"
   ]
  },
  {
   "cell_type": "markdown",
   "id": "1699eb94",
   "metadata": {
    "papermill": {
     "duration": 0.036263,
     "end_time": "2021-11-02T13:32:30.810355",
     "exception": false,
     "start_time": "2021-11-02T13:32:30.774092",
     "status": "completed"
    },
    "tags": []
   },
   "source": [
    "***Encoding words to numbers***"
   ]
  },
  {
   "cell_type": "code",
   "execution_count": 21,
   "id": "32058b51",
   "metadata": {
    "execution": {
     "iopub.execute_input": "2021-11-02T13:32:30.942593Z",
     "iopub.status.busy": "2021-11-02T13:32:30.921880Z",
     "iopub.status.idle": "2021-11-02T13:32:31.733957Z",
     "shell.execute_reply": "2021-11-02T13:32:31.734579Z",
     "shell.execute_reply.started": "2021-11-01T21:30:01.058296Z"
    },
    "papermill": {
     "duration": 0.888622,
     "end_time": "2021-11-02T13:32:31.734794",
     "exception": false,
     "start_time": "2021-11-02T13:32:30.846172",
     "status": "completed"
    },
    "tags": []
   },
   "outputs": [],
   "source": [
    "# converting the textual data to numerical data\n",
    "vectorizer = TfidfVectorizer()\n",
    "vectorizer.fit(X)\n",
    "\n",
    "X = vectorizer.transform(X)"
   ]
  },
  {
   "cell_type": "code",
   "execution_count": 22,
   "id": "5ae84536",
   "metadata": {
    "execution": {
     "iopub.execute_input": "2021-11-02T13:32:31.873917Z",
     "iopub.status.busy": "2021-11-02T13:32:31.873175Z",
     "iopub.status.idle": "2021-11-02T13:32:31.887463Z",
     "shell.execute_reply": "2021-11-02T13:32:31.888505Z",
     "shell.execute_reply.started": "2021-11-01T21:30:01.798692Z"
    },
    "papermill": {
     "duration": 0.11879,
     "end_time": "2021-11-02T13:32:31.888833",
     "exception": false,
     "start_time": "2021-11-02T13:32:31.770043",
     "status": "completed"
    },
    "tags": []
   },
   "outputs": [
    {
     "name": "stdout",
     "output_type": "stream",
     "text": [
      "  (0, 15686)\t0.28485063562728646\n",
      "  (0, 13473)\t0.2565896679337957\n",
      "  (0, 8909)\t0.3635963806326075\n",
      "  (0, 8630)\t0.29212514087043684\n",
      "  (0, 7692)\t0.24785219520671603\n",
      "  (0, 7005)\t0.21874169089359144\n",
      "  (0, 4973)\t0.233316966909351\n",
      "  (0, 3792)\t0.2705332480845492\n",
      "  (0, 3600)\t0.3598939188262559\n",
      "  (0, 2959)\t0.2468450128533713\n",
      "  (0, 2483)\t0.3676519686797209\n",
      "  (0, 267)\t0.27010124977708766\n",
      "  (1, 16799)\t0.30071745655510157\n",
      "  (1, 6816)\t0.1904660198296849\n",
      "  (1, 5503)\t0.7143299355715573\n",
      "  (1, 3568)\t0.26373768806048464\n",
      "  (1, 2813)\t0.19094574062359204\n",
      "  (1, 2223)\t0.3827320386859759\n",
      "  (1, 1894)\t0.15521974226349364\n",
      "  (1, 1497)\t0.2939891562094648\n",
      "  (2, 15611)\t0.41544962664721613\n",
      "  (2, 9620)\t0.49351492943649944\n",
      "  (2, 5968)\t0.3474613386728292\n",
      "  (2, 5389)\t0.3866530551182615\n",
      "  (2, 3103)\t0.46097489583229645\n",
      "  :\t:\n",
      "  (20797, 13122)\t0.2482526352197606\n",
      "  (20797, 12344)\t0.27263457663336677\n",
      "  (20797, 12138)\t0.24778257724396507\n",
      "  (20797, 10306)\t0.08038079000566466\n",
      "  (20797, 9588)\t0.174553480255222\n",
      "  (20797, 9518)\t0.2954204003420313\n",
      "  (20797, 8988)\t0.36160868928090795\n",
      "  (20797, 8364)\t0.22322585870464118\n",
      "  (20797, 7042)\t0.21799048897828688\n",
      "  (20797, 3643)\t0.21155500613623743\n",
      "  (20797, 1287)\t0.33538056804139865\n",
      "  (20797, 699)\t0.30685846079762347\n",
      "  (20797, 43)\t0.29710241860700626\n",
      "  (20798, 13046)\t0.22363267488270608\n",
      "  (20798, 11052)\t0.4460515589182236\n",
      "  (20798, 10177)\t0.3192496370187028\n",
      "  (20798, 6889)\t0.32496285694299426\n",
      "  (20798, 5032)\t0.4083701450239529\n",
      "  (20798, 1125)\t0.4460515589182236\n",
      "  (20798, 588)\t0.3112141524638974\n",
      "  (20798, 350)\t0.28446937819072576\n",
      "  (20799, 14852)\t0.5677577267055112\n",
      "  (20799, 8036)\t0.45983893273780013\n",
      "  (20799, 3623)\t0.37927626273066584\n",
      "  (20799, 377)\t0.5677577267055112\n"
     ]
    }
   ],
   "source": [
    "print(X)"
   ]
  },
  {
   "cell_type": "markdown",
   "id": "2f996323",
   "metadata": {
    "papermill": {
     "duration": 0.03701,
     "end_time": "2021-11-02T13:32:31.967961",
     "exception": false,
     "start_time": "2021-11-02T13:32:31.930951",
     "status": "completed"
    },
    "tags": []
   },
   "source": [
    "***Splitting the dataset to training & test data***"
   ]
  },
  {
   "cell_type": "code",
   "execution_count": 23,
   "id": "1cce3312",
   "metadata": {
    "execution": {
     "iopub.execute_input": "2021-11-02T13:32:32.045544Z",
     "iopub.status.busy": "2021-11-02T13:32:32.044733Z",
     "iopub.status.idle": "2021-11-02T13:32:32.074651Z",
     "shell.execute_reply": "2021-11-02T13:32:32.075327Z",
     "shell.execute_reply.started": "2021-11-01T21:30:01.807528Z"
    },
    "papermill": {
     "duration": 0.071276,
     "end_time": "2021-11-02T13:32:32.075663",
     "exception": false,
     "start_time": "2021-11-02T13:32:32.004387",
     "status": "completed"
    },
    "tags": []
   },
   "outputs": [],
   "source": [
    "X_train, X_test, Y_train, Y_test = train_test_split(X, Y, test_size = 0.3, stratify=Y, random_state=2)"
   ]
  },
  {
   "cell_type": "markdown",
   "id": "72c4da5c",
   "metadata": {
    "papermill": {
     "duration": 0.036606,
     "end_time": "2021-11-02T13:32:32.151208",
     "exception": false,
     "start_time": "2021-11-02T13:32:32.114602",
     "status": "completed"
    },
    "tags": []
   },
   "source": [
    "***Training the Model: Logistic Regression***"
   ]
  },
  {
   "cell_type": "code",
   "execution_count": 24,
   "id": "01bc1d0e",
   "metadata": {
    "execution": {
     "iopub.execute_input": "2021-11-02T13:32:32.228603Z",
     "iopub.status.busy": "2021-11-02T13:32:32.227801Z",
     "iopub.status.idle": "2021-11-02T13:32:32.231270Z",
     "shell.execute_reply": "2021-11-02T13:32:32.231807Z",
     "shell.execute_reply.started": "2021-11-01T21:30:01.838401Z"
    },
    "papermill": {
     "duration": 0.043922,
     "end_time": "2021-11-02T13:32:32.232046",
     "exception": false,
     "start_time": "2021-11-02T13:32:32.188124",
     "status": "completed"
    },
    "tags": []
   },
   "outputs": [],
   "source": [
    "model = LogisticRegression()"
   ]
  },
  {
   "cell_type": "code",
   "execution_count": 25,
   "id": "a7479b35",
   "metadata": {
    "execution": {
     "iopub.execute_input": "2021-11-02T13:32:32.308911Z",
     "iopub.status.busy": "2021-11-02T13:32:32.308160Z",
     "iopub.status.idle": "2021-11-02T13:32:32.766974Z",
     "shell.execute_reply": "2021-11-02T13:32:32.767847Z",
     "shell.execute_reply.started": "2021-11-01T21:30:01.843939Z"
    },
    "papermill": {
     "duration": 0.499381,
     "end_time": "2021-11-02T13:32:32.768207",
     "exception": false,
     "start_time": "2021-11-02T13:32:32.268826",
     "status": "completed"
    },
    "tags": []
   },
   "outputs": [
    {
     "data": {
      "text/plain": [
       "LogisticRegression()"
      ]
     },
     "execution_count": 25,
     "metadata": {},
     "output_type": "execute_result"
    }
   ],
   "source": [
    "model.fit(X_train, Y_train)"
   ]
  },
  {
   "cell_type": "markdown",
   "id": "76514257",
   "metadata": {
    "papermill": {
     "duration": 0.052396,
     "end_time": "2021-11-02T13:32:32.887981",
     "exception": false,
     "start_time": "2021-11-02T13:32:32.835585",
     "status": "completed"
    },
    "tags": []
   },
   "source": [
    "***Evaluation***"
   ]
  },
  {
   "cell_type": "code",
   "execution_count": 26,
   "id": "df48af99",
   "metadata": {
    "execution": {
     "iopub.execute_input": "2021-11-02T13:32:32.965128Z",
     "iopub.status.busy": "2021-11-02T13:32:32.964075Z",
     "iopub.status.idle": "2021-11-02T13:32:32.968733Z",
     "shell.execute_reply": "2021-11-02T13:32:32.969256Z",
     "shell.execute_reply.started": "2021-11-01T21:30:02.24252Z"
    },
    "papermill": {
     "duration": 0.046044,
     "end_time": "2021-11-02T13:32:32.969450",
     "exception": false,
     "start_time": "2021-11-02T13:32:32.923406",
     "status": "completed"
    },
    "tags": []
   },
   "outputs": [],
   "source": [
    "# accuracy score on the training data\n",
    "X_train_prediction = model.predict(X_train)\n",
    "training_data_accuracy = accuracy_score(X_train_prediction, Y_train)"
   ]
  },
  {
   "cell_type": "code",
   "execution_count": 27,
   "id": "7d329b3a",
   "metadata": {
    "execution": {
     "iopub.execute_input": "2021-11-02T13:32:33.045824Z",
     "iopub.status.busy": "2021-11-02T13:32:33.045087Z",
     "iopub.status.idle": "2021-11-02T13:32:33.050424Z",
     "shell.execute_reply": "2021-11-02T13:32:33.050983Z",
     "shell.execute_reply.started": "2021-11-01T21:30:02.256526Z"
    },
    "papermill": {
     "duration": 0.045143,
     "end_time": "2021-11-02T13:32:33.051183",
     "exception": false,
     "start_time": "2021-11-02T13:32:33.006040",
     "status": "completed"
    },
    "tags": []
   },
   "outputs": [
    {
     "name": "stdout",
     "output_type": "stream",
     "text": [
      "Accuracy score of the training data :  0.9850961538461539\n"
     ]
    }
   ],
   "source": [
    "print('Accuracy score of the training data : ', training_data_accuracy)"
   ]
  },
  {
   "cell_type": "code",
   "execution_count": 28,
   "id": "48cf2826",
   "metadata": {
    "execution": {
     "iopub.execute_input": "2021-11-02T13:32:33.131521Z",
     "iopub.status.busy": "2021-11-02T13:32:33.130786Z",
     "iopub.status.idle": "2021-11-02T13:32:33.135327Z",
     "shell.execute_reply": "2021-11-02T13:32:33.134792Z",
     "shell.execute_reply.started": "2021-11-01T21:30:02.264456Z"
    },
    "papermill": {
     "duration": 0.047696,
     "end_time": "2021-11-02T13:32:33.135512",
     "exception": false,
     "start_time": "2021-11-02T13:32:33.087816",
     "status": "completed"
    },
    "tags": []
   },
   "outputs": [],
   "source": [
    "# accuracy score on the test data\n",
    "X_test_prediction = model.predict(X_test)\n",
    "test_data_accuracy = accuracy_score(X_test_prediction, Y_test)"
   ]
  },
  {
   "cell_type": "code",
   "execution_count": 29,
   "id": "2f98ed94",
   "metadata": {
    "execution": {
     "iopub.execute_input": "2021-11-02T13:32:33.212949Z",
     "iopub.status.busy": "2021-11-02T13:32:33.212245Z",
     "iopub.status.idle": "2021-11-02T13:32:33.217628Z",
     "shell.execute_reply": "2021-11-02T13:32:33.217031Z",
     "shell.execute_reply.started": "2021-11-01T21:30:02.282717Z"
    },
    "papermill": {
     "duration": 0.04651,
     "end_time": "2021-11-02T13:32:33.217777",
     "exception": false,
     "start_time": "2021-11-02T13:32:33.171267",
     "status": "completed"
    },
    "tags": []
   },
   "outputs": [
    {
     "name": "stdout",
     "output_type": "stream",
     "text": [
      "Accuracy score of the test data :  0.9743589743589743\n"
     ]
    }
   ],
   "source": [
    "print('Accuracy score of the test data : ', test_data_accuracy)"
   ]
  },
  {
   "cell_type": "markdown",
   "id": "5c4bd4d8",
   "metadata": {
    "papermill": {
     "duration": 0.035856,
     "end_time": "2021-11-02T13:32:33.289893",
     "exception": false,
     "start_time": "2021-11-02T13:32:33.254037",
     "status": "completed"
    },
    "tags": []
   },
   "source": [
    "*** Testing the  Predictive System ***"
   ]
  },
  {
   "cell_type": "code",
   "execution_count": 30,
   "id": "ed27d83e",
   "metadata": {
    "execution": {
     "iopub.execute_input": "2021-11-02T13:32:33.365904Z",
     "iopub.status.busy": "2021-11-02T13:32:33.365241Z",
     "iopub.status.idle": "2021-11-02T13:32:33.372787Z",
     "shell.execute_reply": "2021-11-02T13:32:33.373463Z",
     "shell.execute_reply.started": "2021-11-01T21:30:02.291111Z"
    },
    "papermill": {
     "duration": 0.047732,
     "end_time": "2021-11-02T13:32:33.373683",
     "exception": false,
     "start_time": "2021-11-02T13:32:33.325951",
     "status": "completed"
    },
    "tags": []
   },
   "outputs": [
    {
     "name": "stdout",
     "output_type": "stream",
     "text": [
      "[0]\n",
      "The news is Real\n"
     ]
    }
   ],
   "source": [
    "X_new = X_test[2]\n",
    "\n",
    "prediction = model.predict(X_new)\n",
    "print(prediction)\n",
    "\n",
    "if (prediction[0]==0):\n",
    "  print('The news is Real')\n",
    "else:\n",
    "  print('The news is Fake')"
   ]
  },
  {
   "cell_type": "code",
   "execution_count": 31,
   "id": "137b5ac1",
   "metadata": {
    "execution": {
     "iopub.execute_input": "2021-11-02T13:32:33.450890Z",
     "iopub.status.busy": "2021-11-02T13:32:33.450188Z",
     "iopub.status.idle": "2021-11-02T13:32:33.455272Z",
     "shell.execute_reply": "2021-11-02T13:32:33.455948Z",
     "shell.execute_reply.started": "2021-11-01T21:31:17.092821Z"
    },
    "papermill": {
     "duration": 0.045552,
     "end_time": "2021-11-02T13:32:33.456131",
     "exception": false,
     "start_time": "2021-11-02T13:32:33.410579",
     "status": "completed"
    },
    "tags": []
   },
   "outputs": [
    {
     "name": "stdout",
     "output_type": "stream",
     "text": [
      "0\n"
     ]
    }
   ],
   "source": [
    "print(Y_test[2])"
   ]
  }
 ],
 "metadata": {
  "kernelspec": {
   "display_name": "Python 3",
   "language": "python",
   "name": "python3"
  },
  "language_info": {
   "codemirror_mode": {
    "name": "ipython",
    "version": 3
   },
   "file_extension": ".py",
   "mimetype": "text/x-python",
   "name": "python",
   "nbconvert_exporter": "python",
   "pygments_lexer": "ipython3",
   "version": "3.7.10"
  },
  "papermill": {
   "default_parameters": {},
   "duration": 67.339389,
   "end_time": "2021-11-02T13:32:34.507887",
   "environment_variables": {},
   "exception": null,
   "input_path": "__notebook__.ipynb",
   "output_path": "__notebook__.ipynb",
   "parameters": {},
   "start_time": "2021-11-02T13:31:27.168498",
   "version": "2.3.3"
  }
 },
 "nbformat": 4,
 "nbformat_minor": 5
}
